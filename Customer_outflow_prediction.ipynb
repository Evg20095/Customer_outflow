{
  "nbformat": 4,
  "nbformat_minor": 0,
  "metadata": {
    "colab": {
      "name": "Customer_outflow_prediction.ipynb",
      "provenance": [],
      "collapsed_sections": [],
      "toc_visible": true,
      "machine_shape": "hm",
      "authorship_tag": "ABX9TyNYuArPRvtyxqDCnOM6GE+W",
      "include_colab_link": true
    },
    "kernelspec": {
      "name": "python3",
      "display_name": "Python 3"
    },
    "accelerator": "GPU"
  },
  "cells": [
    {
      "cell_type": "markdown",
      "metadata": {
        "id": "view-in-github",
        "colab_type": "text"
      },
      "source": [
        "<a href=\"https://colab.research.google.com/github/Evg20095/Customer_outflow/blob/master/Customer_outflow_prediction.ipynb\" target=\"_parent\"><img src=\"https://colab.research.google.com/assets/colab-badge.svg\" alt=\"Open In Colab\"/></a>"
      ]
    },
    {
      "cell_type": "code",
      "metadata": {
        "id": "OadMZYma2o7F",
        "colab_type": "code",
        "colab": {}
      },
      "source": [
        "import pickle\n",
        "import numpy as np\n",
        "import pandas as pd\n",
        "from tqdm import tqdm_notebook\n",
        "from scipy.sparse import csr_matrix, hstack\n",
        "from sklearn import preprocessing\n",
        "from sklearn.preprocessing import StandardScaler\n",
        "from sklearn.metrics import roc_auc_score, precision_score, accuracy_score, recall_score, f1_score\n",
        "from sklearn.linear_model import LogisticRegression\n",
        "from sklearn.preprocessing import LabelEncoder\n",
        "from sklearn.model_selection import train_test_split\n",
        "import xgboost as xgb\n",
        "%matplotlib inline\n",
        "from matplotlib import pyplot as plt\n",
        "import seaborn as sns"
      ],
      "execution_count": 0,
      "outputs": []
    },
    {
      "cell_type": "code",
      "metadata": {
        "id": "3LGOtioxdHtg",
        "colab_type": "code",
        "colab": {}
      },
      "source": [
        "from google.colab import drive\n",
        "drive.mount('/content/gdrive')"
      ],
      "execution_count": 0,
      "outputs": []
    },
    {
      "cell_type": "code",
      "metadata": {
        "id": "x1C18A2qdFax",
        "colab_type": "code",
        "colab": {}
      },
      "source": [
        "# считываем данные\n",
        "train_df = pd.read_csv('/content/gdrive/My Drive/Colab Notebooks/uma/TRAIN_PREPARED.csv', index_col='email')\n",
        "test_df = pd.read_csv('/content/gdrive/My Drive/Colab Notebooks/uma/TEST_PREPARED.csv', index_col='email')"
      ],
      "execution_count": 0,
      "outputs": []
    },
    {
      "cell_type": "code",
      "metadata": {
        "id": "f29LaIJNtuBM",
        "colab_type": "code",
        "colab": {}
      },
      "source": [
        "# изменим формат некоторых данных\n",
        "times = ['cut_date', 'first_date', 'last_date']\n",
        "train_df[times] = train_df[times].apply(pd.to_datetime)\n",
        "test_df[times] = test_df[times].apply(pd.to_datetime)"
      ],
      "execution_count": 0,
      "outputs": []
    },
    {
      "cell_type": "code",
      "metadata": {
        "id": "DN433JxRUuEF",
        "colab_type": "code",
        "colab": {}
      },
      "source": [
        "# выделим целевую переменную\n",
        "df_y_train = train_df['label']\n",
        "\n",
        "# удалим слобец label\n",
        "train_df.drop(['label'], axis='columns', inplace=True)"
      ],
      "execution_count": 0,
      "outputs": []
    },
    {
      "cell_type": "code",
      "metadata": {
        "id": "zLkOrftfj35b",
        "colab_type": "code",
        "colab": {}
      },
      "source": [
        "# избавимся от столбцов с датой\n",
        "# train_df.drop(times, axis='columns', inplace=True)"
      ],
      "execution_count": 0,
      "outputs": []
    },
    {
      "cell_type": "code",
      "metadata": {
        "id": "R7Y6RQcrGr1d",
        "colab_type": "code",
        "colab": {}
      },
      "source": [
        "# преобразуем формат даты в таблице\n",
        "train_df['cut_date'] = train_df['cut_date'].apply(lambda ts: 10000*ts.year + 100*ts.month + ts.day)\n",
        "train_df['first_date'] = train_df['first_date'].apply(lambda ts: 10000*ts.year + 100*ts.month + ts.day)\n",
        "train_df['last_date'] = train_df['last_date'].apply(lambda ts: 10000*ts.year + 100*ts.month + ts.day)\n",
        "test_df['cut_date'] = test_df['cut_date'].apply(lambda ts: 10000*ts.year + 100*ts.month + ts.day)\n",
        "test_df['first_date'] = test_df['first_date'].apply(lambda ts: 10000*ts.year + 100*ts.month + ts.day)\n",
        "test_df['last_date'] = test_df['last_date'].apply(lambda ts: 10000*ts.year + 100*ts.month + ts.day)"
      ],
      "execution_count": 0,
      "outputs": []
    },
    {
      "cell_type": "code",
      "metadata": {
        "id": "b3Mq99ntTHic",
        "colab_type": "code",
        "colab": {}
      },
      "source": [
        "# нормализуем данные\n",
        "columns = train_df.loc[:,'cut_date':'pc_max_30days'].columns\n",
        "def normalize(df, columns):\n",
        "    result = df.copy()\n",
        "    for feature_name in columns:\n",
        "        max_value = df[feature_name].max()\n",
        "        min_value = df[feature_name].min()\n",
        "        np.seterr(divide='ignore', invalid='ignore')\n",
        "        result[feature_name] = (df[feature_name] - min_value) / (max_value - min_value)\n",
        "    return result\n",
        "train_df_new = normalize(train_df, columns)\n",
        "test_df_new = normalize(test_df, columns)\n",
        "# заменим пропуски на 0\n",
        "test_df_new = test_df_new.fillna(0)"
      ],
      "execution_count": 0,
      "outputs": []
    },
    {
      "cell_type": "code",
      "metadata": {
        "id": "X3ElW4Xy3Xkq",
        "colab_type": "code",
        "colab": {}
      },
      "source": [
        "train_df_new.head()"
      ],
      "execution_count": 0,
      "outputs": []
    },
    {
      "cell_type": "code",
      "metadata": {
        "id": "PKSQDPXPsaF_",
        "colab_type": "code",
        "colab": {}
      },
      "source": [
        "# Попробуем подобрать хорошие гипер параметры.\n",
        "# Здесь можно попробовать вручную подобрать коэф. регуляризации. Я остановился на единице.\n",
        "#\n",
        "def get_auc_lr_valid(X, y, C=1, ratio = 0.9, seed=17):\n",
        "    '''\n",
        "    X, y – данные, метки\n",
        "    ratio – соотношениее частей выборки\n",
        "    C, seed – коэф-т регуляризации и random_state \n",
        "    \n",
        "    '''\n",
        "    train_len = int(ratio * X.shape[0])\n",
        "    X_train = X[:train_len]\n",
        "    X_valid = X[train_len:]\n",
        "    y_train = y[:train_len]\n",
        "    y_valid = y[train_len:]\n",
        "\n",
        "    logit = LogisticRegression(C=C, class_weight='balanced', n_jobs=-1, random_state=seed)\n",
        "\n",
        "    logit.fit(X_train, y_train)\n",
        "    valid_pred = logit.predict_proba(X_valid)[:, 1]\n",
        "    print(valid_pred)\n",
        "    return roc_auc_score(y_valid, valid_pred)"
      ],
      "execution_count": 0,
      "outputs": []
    },
    {
      "cell_type": "code",
      "metadata": {
        "id": "uijvwiDosahe",
        "colab_type": "code",
        "colab": {}
      },
      "source": [
        "%%time\n",
        "get_auc_lr_valid(train_df_new, df_y_train)"
      ],
      "execution_count": 0,
      "outputs": []
    },
    {
      "cell_type": "markdown",
      "metadata": {
        "id": "JORsrky5tKda",
        "colab_type": "text"
      },
      "source": [
        "Как можно видеть, качество предсказания оставляет желать лучшего. Я немного поэкспериментировал с гиперпараметрами, но результат не изменился. Врятли на тестовой выборке качество предсказания резко улучшится. Что же делать?\n",
        "\n",
        "Есть два пути: \n",
        "1. Можно попробовать другие алгоритмы, случайный лес или даже нейронные сети. Я думаю что не стоит везде пытаться притянуть нейронку, хотя для задач оттока есть любопытные статьи на эту тему. Но в экспериментальных целях можно попробовать. Попробуем градиентный бустинг.\n",
        "2. Можно попробовать поработать с данными. Но это может занять много времени и я не нашёл описания фичей. И ещё, очень важно, зависимость целевой переменной от фичей может быть такой, что логистическая регрессия просто не сможет эффективно разделить гиперплоскостью пространство признаков на два полупространства. Попробуем бустинг."
      ]
    },
    {
      "cell_type": "markdown",
      "metadata": {
        "id": "oXy0eFM2H3z-",
        "colab_type": "text"
      },
      "source": [
        "Градиентный бустинг"
      ]
    },
    {
      "cell_type": "code",
      "metadata": {
        "id": "aYWmQJUQeEkh",
        "colab_type": "code",
        "colab": {}
      },
      "source": [
        "# обработка данных\n",
        "X, y = train_df_new, df_y_train\n",
        "\n",
        "ratio = 0.9\n",
        "\n",
        "train_len = int(ratio * X.shape[0])\n",
        "X_train = X[:train_len]\n",
        "X_valid = X[train_len:]\n",
        "y_train = y[:train_len]\n",
        "y_valid = y[train_len:]"
      ],
      "execution_count": 0,
      "outputs": []
    },
    {
      "cell_type": "code",
      "metadata": {
        "id": "wE391GW3yjoS",
        "colab_type": "code",
        "colab": {}
      },
      "source": [
        ""
      ],
      "execution_count": 0,
      "outputs": []
    },
    {
      "cell_type": "code",
      "metadata": {
        "id": "hkf5rBkXhiCy",
        "colab_type": "code",
        "colab": {}
      },
      "source": [
        "# Опишем модель\n",
        "xgb_model = xgb.XGBClassifier(max_depth=7, learning_rate=0.7, verbosity=1, n_jobs=-1, n_estimators=250)\n",
        "xgb_model.fit(X_train, y_train, eval_metric=\"merror\")"
      ],
      "execution_count": 0,
      "outputs": []
    },
    {
      "cell_type": "code",
      "metadata": {
        "id": "JrljKEn9l6DK",
        "colab_type": "code",
        "colab": {}
      },
      "source": [
        "predict_labels = xgb_model.predict(X_valid)"
      ],
      "execution_count": 0,
      "outputs": []
    },
    {
      "cell_type": "markdown",
      "metadata": {
        "id": "Vv60aljvtkqa",
        "colab_type": "text"
      },
      "source": [
        "# В задаче оттока важно найти всех клиентов, которые могут уйти. Если мы ошибёмся в том, что назовём лояльного клиента уходящим и ему позвонит менеджер, которому это делать было не обязательно, это будет не так страшно, как если мы пропустим, уходящего клиента. Поэтому я выбрал метрику recall для оценки модели."
      ]
    },
    {
      "cell_type": "code",
      "metadata": {
        "id": "YICvP1RsnDcm",
        "colab_type": "code",
        "colab": {
          "base_uri": "https://localhost:8080/",
          "height": 34
        },
        "outputId": "b0f0c02f-00ba-4406-a569-4ea95599f90d"
      },
      "source": [
        "# полнота\n",
        "round(recall_score(y_valid, predict_labels), 3)"
      ],
      "execution_count": 57,
      "outputs": [
        {
          "output_type": "execute_result",
          "data": {
            "text/plain": [
              "0.915"
            ]
          },
          "metadata": {
            "tags": []
          },
          "execution_count": 57
        }
      ]
    },
    {
      "cell_type": "code",
      "metadata": {
        "id": "7CZxWGp_nDfd",
        "colab_type": "code",
        "colab": {
          "base_uri": "https://localhost:8080/",
          "height": 34
        },
        "outputId": "9166cd1f-ec78-4f7c-b449-0de1a677b076"
      },
      "source": [
        "# метрика качества классификации\n",
        "round(f1_score(y_valid, predict_labels), 3)"
      ],
      "execution_count": 48,
      "outputs": [
        {
          "output_type": "execute_result",
          "data": {
            "text/plain": [
              "0.939"
            ]
          },
          "metadata": {
            "tags": []
          },
          "execution_count": 48
        }
      ]
    },
    {
      "cell_type": "code",
      "metadata": {
        "id": "dREytYSpqdJw",
        "colab_type": "code",
        "colab": {
          "base_uri": "https://localhost:8080/",
          "height": 312
        },
        "outputId": "1af3967a-edf4-495a-c518-89639c28a717"
      },
      "source": [
        "xgb.plot_importance(xgb_model, max_num_features=20)"
      ],
      "execution_count": 53,
      "outputs": [
        {
          "output_type": "execute_result",
          "data": {
            "text/plain": [
              "<matplotlib.axes._subplots.AxesSubplot at 0x7fab20dfa3c8>"
            ]
          },
          "metadata": {
            "tags": []
          },
          "execution_count": 53
        },
        {
          "output_type": "display_data",
          "data": {
            "image/png": "[encoded data removed]",
            "text/plain": [
              "<Figure size 432x288 with 1 Axes>"
            ]
          },
          "metadata": {
            "tags": []
          }
        }
      ]
    },
    {
      "cell_type": "code",
      "metadata": {
        "id": "GJN22k1qvY8h",
        "colab_type": "code",
        "colab": {}
      },
      "source": [
        "# получим вероятности для тестовой выборки\n",
        "predict_labels_test_proba = xgb_model.predict_proba(test_df_new)[:, 1]\n",
        "\n",
        "# округлим вероятности\n",
        "predict_labels_test_proba = [ '%.3f' % elem for elem in predict_labels_test_proba ]"
      ],
      "execution_count": 0,
      "outputs": []
    },
    {
      "cell_type": "code",
      "metadata": {
        "id": "erMPgywp01mE",
        "colab_type": "code",
        "colab": {}
      },
      "source": [
        "# создадим scv файл\n",
        "pd.Series(predict_labels_test_proba, index=test_df_new.index, name='prediction').to_csv('Customer_outflow_prediction.csv', header=True)"
      ],
      "execution_count": 0,
      "outputs": []
    },
    {
      "cell_type": "code",
      "metadata": {
        "id": "YcUPMtLk0458",
        "colab_type": "code",
        "colab": {}
      },
      "source": [
        "!head Customer_outflow_prediction.csv"
      ],
      "execution_count": 0,
      "outputs": []
    },
    {
      "cell_type": "markdown",
      "metadata": {
        "id": "gwJ2BBLdxqhO",
        "colab_type": "text"
      },
      "source": [
        "Здесь явно нехватает алгоритма выбора гиперпараметров. И графика с метриками  от гиперпараметров. И сравнения градиентного бустинга с нейроной сетью, логистическая регрессия, это явно не та \"весовая категория\".\n",
        "\n",
        "Я знаю, что ложка хороша к обеду, но так сложились обстоятельства, что у меня было только субота и восресенье на решение задачи. Если есть возможность решить другой тест, я бы ей с удовольствием воспользовался и использовал всё свободное время."
      ]
    }
  ]
}